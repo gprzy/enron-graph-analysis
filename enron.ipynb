{
 "cells": [
  {
   "cell_type": "code",
   "execution_count": 1,
   "metadata": {},
   "outputs": [],
   "source": [
    "import os\n",
    "import re\n",
    "\n",
    "import numpy as np\n",
    "import pandas as pd\n",
    "\n",
    "from graph import *"
   ]
  },
  {
   "cell_type": "code",
   "execution_count": 2,
   "metadata": {},
   "outputs": [],
   "source": [
    "# configurações de exibição das tabelas\n",
    "pd.set_option('display.max_rows', 500)\n",
    "pd.set_option('display.max_columns', 500)\n",
    "pd.set_option('display.max_colwidth', 50)"
   ]
  },
  {
   "cell_type": "markdown",
   "metadata": {},
   "source": [
    "# Lendo os arquivos"
   ]
  },
  {
   "cell_type": "code",
   "execution_count": 3,
   "metadata": {},
   "outputs": [],
   "source": [
    "# listando os diretórios de usuários\n",
    "base_path = './data/enron-sample/'\n",
    "dirs = os.listdir('./data/enron-sample')"
   ]
  },
  {
   "cell_type": "code",
   "execution_count": 4,
   "metadata": {},
   "outputs": [],
   "source": [
    "# criando uma lista com os arquivos\n",
    "# (user_path, dirs, (path, dirs, files))\n",
    "\n",
    "files = []\n",
    "for dir in dirs:\n",
    "    files.append(list(os.walk(base_path + dir)))"
   ]
  },
  {
   "cell_type": "markdown",
   "metadata": {},
   "source": [
    "# Criando um `DataFrame`"
   ]
  },
  {
   "cell_type": "code",
   "execution_count": 5,
   "metadata": {},
   "outputs": [],
   "source": [
    "# criando um df a partir dos emails\n",
    "\n",
    "df = pd.DataFrame()\n",
    "\n",
    "complete_paths = []\n",
    "contents = []\n",
    "for i in range(len(dirs)):\n",
    "    for k in range(len(files[i])):\n",
    "        user_dir_path = files[i][k][0].replace('\\\\', '/')\n",
    "        data_files = files[i][k][2]\n",
    "\n",
    "        for file_name in data_files:\n",
    "            complete_path = user_dir_path + '/' + file_name\n",
    "\n",
    "            with open(complete_path, 'r') as f:\n",
    "                content = f.read()\n",
    "\n",
    "            complete_paths.append(complete_path)\n",
    "            contents.append(content)\n",
    "\n",
    "df['path'] = complete_paths\n",
    "df['content'] = contents"
   ]
  },
  {
   "cell_type": "code",
   "execution_count": 6,
   "metadata": {},
   "outputs": [],
   "source": [
    "# extraindo emails de remetente e destinatário\n",
    "df['from'] = df['content'].str.extract('From: (.*)\\n')\n",
    "df['to'] = df['content'].str.extract('To: (.*)\\n')\n",
    "\n",
    "# limpando a str dos emails\n",
    "df['from'] = df['from'].str.strip()\n",
    "df['to'] = df['to'].str.strip()\n",
    "\n",
    "# substituindo emails nulos por np.nan\n",
    "df['from'] = df['from'].replace('', np.nan)\n",
    "df['from'] = df['from'].replace(' ', np.nan)\n",
    "df['to'] = df['to'].replace('', np.nan)\n",
    "df['to'] = df['to'].replace(' ', np.nan)\n",
    "\n",
    "replace_nan = lambda x: x.replace('..', '.') if str(x) != 'nan' else x\n",
    "\n",
    "df['from'] = df['from'].map(replace_nan)\n",
    "df['to'] = df['to'].map(replace_nan)"
   ]
  },
  {
   "cell_type": "code",
   "execution_count": 7,
   "metadata": {},
   "outputs": [
    {
     "data": {
      "text/html": [
       "<div>\n",
       "<style scoped>\n",
       "    .dataframe tbody tr th:only-of-type {\n",
       "        vertical-align: middle;\n",
       "    }\n",
       "\n",
       "    .dataframe tbody tr th {\n",
       "        vertical-align: top;\n",
       "    }\n",
       "\n",
       "    .dataframe thead th {\n",
       "        text-align: right;\n",
       "    }\n",
       "</style>\n",
       "<table border=\"1\" class=\"dataframe\">\n",
       "  <thead>\n",
       "    <tr style=\"text-align: right;\">\n",
       "      <th></th>\n",
       "      <th>path</th>\n",
       "      <th>content</th>\n",
       "      <th>from</th>\n",
       "      <th>to</th>\n",
       "    </tr>\n",
       "  </thead>\n",
       "  <tbody>\n",
       "    <tr>\n",
       "      <th>0</th>\n",
       "      <td>./data/enron-sample/brawner-s/all_documents/1</td>\n",
       "      <td>Message-ID: &lt;9225178.1075856114648.JavaMail.ev...</td>\n",
       "      <td>tdoremus@tfsbrokers.com</td>\n",
       "      <td>NaN</td>\n",
       "    </tr>\n",
       "    <tr>\n",
       "      <th>1</th>\n",
       "      <td>./data/enron-sample/brawner-s/all_documents/10</td>\n",
       "      <td>Message-ID: &lt;24241310.1075856114864.JavaMail.e...</td>\n",
       "      <td>jons@amerexenergy.com</td>\n",
       "      <td>sandra.f.brawner@enron.com</td>\n",
       "    </tr>\n",
       "    <tr>\n",
       "      <th>2</th>\n",
       "      <td>./data/enron-sample/brawner-s/all_documents/100</td>\n",
       "      <td>Message-ID: &lt;25430194.1075856121754.JavaMail.e...</td>\n",
       "      <td>enron.announcements@enron.com</td>\n",
       "      <td>all.houston@enron.com</td>\n",
       "    </tr>\n",
       "    <tr>\n",
       "      <th>3</th>\n",
       "      <td>./data/enron-sample/brawner-s/all_documents/101</td>\n",
       "      <td>Message-ID: &lt;22484553.1075856121777.JavaMail.e...</td>\n",
       "      <td>sandra.brawner@enron.com</td>\n",
       "      <td>kennethbrawner@msn.com</td>\n",
       "    </tr>\n",
       "    <tr>\n",
       "      <th>4</th>\n",
       "      <td>./data/enron-sample/brawner-s/all_documents/102</td>\n",
       "      <td>Message-ID: &lt;7884756.1075856121799.JavaMail.ev...</td>\n",
       "      <td>sandra.brawner@enron.com</td>\n",
       "      <td>kennethbrawner@msn.com</td>\n",
       "    </tr>\n",
       "  </tbody>\n",
       "</table>\n",
       "</div>"
      ],
      "text/plain": [
       "                                              path  \\\n",
       "0    ./data/enron-sample/brawner-s/all_documents/1   \n",
       "1   ./data/enron-sample/brawner-s/all_documents/10   \n",
       "2  ./data/enron-sample/brawner-s/all_documents/100   \n",
       "3  ./data/enron-sample/brawner-s/all_documents/101   \n",
       "4  ./data/enron-sample/brawner-s/all_documents/102   \n",
       "\n",
       "                                             content  \\\n",
       "0  Message-ID: <9225178.1075856114648.JavaMail.ev...   \n",
       "1  Message-ID: <24241310.1075856114864.JavaMail.e...   \n",
       "2  Message-ID: <25430194.1075856121754.JavaMail.e...   \n",
       "3  Message-ID: <22484553.1075856121777.JavaMail.e...   \n",
       "4  Message-ID: <7884756.1075856121799.JavaMail.ev...   \n",
       "\n",
       "                            from                          to  \n",
       "0        tdoremus@tfsbrokers.com                         NaN  \n",
       "1          jons@amerexenergy.com  sandra.f.brawner@enron.com  \n",
       "2  enron.announcements@enron.com       all.houston@enron.com  \n",
       "3       sandra.brawner@enron.com      kennethbrawner@msn.com  \n",
       "4       sandra.brawner@enron.com      kennethbrawner@msn.com  "
      ]
     },
     "execution_count": 7,
     "metadata": {},
     "output_type": "execute_result"
    }
   ],
   "source": [
    "df.head()"
   ]
  },
  {
   "cell_type": "code",
   "execution_count": 8,
   "metadata": {},
   "outputs": [
    {
     "data": {
      "text/plain": [
       "(12517, 4)"
      ]
     },
     "execution_count": 8,
     "metadata": {},
     "output_type": "execute_result"
    }
   ],
   "source": [
    "df.shape"
   ]
  },
  {
   "cell_type": "code",
   "execution_count": 9,
   "metadata": {},
   "outputs": [
    {
     "name": "stdout",
     "output_type": "stream",
     "text": [
      "3191\n"
     ]
    },
    {
     "data": {
      "text/plain": [
       "array(['tdoremus@tfsbrokers.com', 'jons@amerexenergy.com',\n",
       "       'enron.announcements@enron.com', 'sandra.brawner@enron.com',\n",
       "       'perfmgmt@enron.com', 'jared.kaiser@enron.com',\n",
       "       'michael.garberding@enron.com', 'outlook.team@enron.com',\n",
       "       'jeffrey.shankman@enron.com', 'airam.arteaga@enron.com'],\n",
       "      dtype=object)"
      ]
     },
     "execution_count": 9,
     "metadata": {},
     "output_type": "execute_result"
    }
   ],
   "source": [
    "# criando uma lista de emails únicos\n",
    "\n",
    "unique_emails_from = df['from'].unique()\n",
    "unique_emails_to = df['to'].unique()\n",
    "\n",
    "unique_emails = np.append(unique_emails_from, unique_emails_to)\n",
    "\n",
    "print(len(unique_emails))\n",
    "unique_emails[:10]"
   ]
  },
  {
   "cell_type": "markdown",
   "metadata": {},
   "source": [
    "# 1. Criando o grafo"
   ]
  },
  {
   "cell_type": "code",
   "execution_count": 10,
   "metadata": {},
   "outputs": [],
   "source": [
    "# 1. criando o grafo\n",
    "\n",
    "graph = Graph()\n",
    "\n",
    "for email in unique_emails:\n",
    "\n",
    "    # cria um caso não exista um vértice do email\n",
    "    if email not in list(graph.adjacency_matrix.keys()):\n",
    "        graph.add_vertex(email)\n",
    "\n",
    "for row in df.iterrows():\n",
    "    row_data = row[1]\n",
    "    \n",
    "    email_from = row_data['from']\n",
    "    email_to = row_data['to']\n",
    "\n",
    "    # caso ambos emails existam\n",
    "    if str(email_from) != 'nan' and str(email_to) != 'nan':\n",
    "\n",
    "        # se a aresta já existir, recria aumentando o peso\n",
    "        if graph.has_edge(email_from, email_to):\n",
    "            weight = graph.weight(email_from, email_to)\n",
    "\n",
    "            graph.remove_edge(email_from, email_to)\n",
    "            graph.add_edge(email_from, email_to, weight+1, on_error='pass')\n",
    "\n",
    "        # cria a aresta se essa não existir\n",
    "        else:\n",
    "            graph.add_edge(email_from, email_to, 1)"
   ]
  },
  {
   "cell_type": "code",
   "execution_count": 11,
   "metadata": {},
   "outputs": [
    {
     "data": {
      "text/plain": [
       "[('andrea.ring@enron.com', 8),\n",
       " ('parking.transportation@enron.com', 3),\n",
       " ('jons@amerexyenergy.com', 4),\n",
       " ('rrussin@natsource.com', 3),\n",
       " ('ina.rangel@enron.com', 3),\n",
       " ('louis.dicarlo@enron.com', 3),\n",
       " ('ksmalek@aep.com', 3),\n",
       " ('tk.lohman@enron.com', 6),\n",
       " ('john.griffith@enron.com', 4),\n",
       " ('david.delainey@enron.com', 4)]"
      ]
     },
     "execution_count": 11,
     "metadata": {},
     "output_type": "execute_result"
    }
   ],
   "source": [
    "matrix = graph.get_adjacency_matrix()\n",
    "\n",
    "# primeiros 10 contatos de 'sandra.brawner@enron.com'\n",
    "list(zip(list(matrix['sandra.brawner@enron.com'].keys()),\n",
    "         list(list(matrix['sandra.brawner@enron.com'].values()))))[:10]"
   ]
  },
  {
   "cell_type": "markdown",
   "metadata": {},
   "source": [
    "# 2. Informações do grafo"
   ]
  },
  {
   "cell_type": "code",
   "execution_count": 12,
   "metadata": {},
   "outputs": [
    {
     "name": "stdout",
     "output_type": "stream",
     "text": [
      "2836\n",
      "2836\n"
     ]
    }
   ],
   "source": [
    "# 2. a) número de vértices do grafo\n",
    "\n",
    "print(graph.nvertex)\n",
    "print(len(graph.adjacency_matrix))"
   ]
  },
  {
   "cell_type": "code",
   "execution_count": 13,
   "metadata": {},
   "outputs": [
    {
     "data": {
      "text/plain": [
       "2847"
      ]
     },
     "execution_count": 13,
     "metadata": {},
     "output_type": "execute_result"
    }
   ],
   "source": [
    "# 2. b) número de arestas do grafo\n",
    "graph.nedges"
   ]
  },
  {
   "cell_type": "code",
   "execution_count": 14,
   "metadata": {},
   "outputs": [
    {
     "data": {
      "text/plain": [
       "drew.fossum@enron.com           308\n",
       "darron.giron@enron.com          285\n",
       "james.derrick@enron.com         258\n",
       "mike.carson@enron.com           166\n",
       "lindy.donoho@enron.com          155\n",
       "martin.cuilla@enron.com         111\n",
       "c.giron@enron.com                99\n",
       "f.brawner@enron.com              46\n",
       "sandra.brawner@enron.com         44\n",
       "mcuilla@enron.com                42\n",
       "no.address@enron.com             40\n",
       "shelley.corman@enron.com         22\n",
       "mcuilla@ect.enron.com            21\n",
       "40enron@enron.com                21\n",
       "audrey.robertson@enron.com       21\n",
       "dennis.lee@enron.com             20\n",
       "victor.lamadrid@enron.com        20\n",
       "powerprices@amerexenergy.com     19\n",
       "lorna.brennan@enron.com          16\n",
       "a.howard@enron.com               16\n",
       "dtype: int64"
      ]
     },
     "execution_count": 14,
     "metadata": {},
     "output_type": "execute_result"
    }
   ],
   "source": [
    "# 20 nós (emails) de maior grau\n",
    "\n",
    "nodes = list(graph.adjacency_matrix.keys())\n",
    "\n",
    "degrees = []\n",
    "for node in nodes:\n",
    "    degrees.append(graph.degree(node))\n",
    "\n",
    "degrees = pd.Series(data=degrees, index=nodes)\n",
    "degrees.sort_values(ascending=False)[:20]"
   ]
  },
  {
   "cell_type": "code",
   "execution_count": 15,
   "metadata": {},
   "outputs": [],
   "source": [
    "# graph.depth_first_search(start='jons@amerexenergy.com',\n",
    "#                          end='the.mailout@enron.com')"
   ]
  },
  {
   "cell_type": "code",
   "execution_count": 16,
   "metadata": {},
   "outputs": [],
   "source": [
    "# graph.breadth_first_search(start='jons@amerexenergy.com',\n",
    "#                            end='the.mailout@enron.com')"
   ]
  },
  {
   "cell_type": "code",
   "execution_count": 17,
   "metadata": {},
   "outputs": [],
   "source": [
    "# path, cost = graph.dijkstra(start='andrea.ring@enron.com',\n",
    "#                             end='darron.giron@enron.com')"
   ]
  }
 ],
 "metadata": {
  "kernelspec": {
   "display_name": "Python 3.9.7 ('base')",
   "language": "python",
   "name": "python3"
  },
  "language_info": {
   "codemirror_mode": {
    "name": "ipython",
    "version": 3
   },
   "file_extension": ".py",
   "mimetype": "text/x-python",
   "name": "python",
   "nbconvert_exporter": "python",
   "pygments_lexer": "ipython3",
   "version": "3.9.7"
  },
  "orig_nbformat": 4,
  "vscode": {
   "interpreter": {
    "hash": "30f07e33239fa8282e26e15725321d07a8b0c67c5d45bbf6a7e3668dfd7ffdbf"
   }
  }
 },
 "nbformat": 4,
 "nbformat_minor": 2
}
